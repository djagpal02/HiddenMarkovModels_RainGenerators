{
 "cells": [
  {
   "cell_type": "code",
   "execution_count": 2,
   "metadata": {},
   "outputs": [],
   "source": [
    "import numpy as np\n",
    "import seaborn as sns\n",
    "import pandas as pd\n",
    "import matplotlib.pyplot as plt\n",
    "%matplotlib inline"
   ]
  },
  {
   "cell_type": "code",
   "execution_count": 3,
   "metadata": {},
   "outputs": [],
   "source": [
    "data = pd.read_csv('GermanData.csv')"
   ]
  },
  {
   "cell_type": "code",
   "execution_count": 4,
   "metadata": {},
   "outputs": [
    {
     "data": {
      "text/plain": [
       "1"
      ]
     },
     "execution_count": 4,
     "metadata": {},
     "output_type": "execute_result"
    }
   ],
   "source": [
    "# Split data into months, no month name - simply labeled 0-11\n",
    "data['Month'] = 0\n",
    "k = -1\n",
    "for i in range(len(data)):\n",
    "    if (i % 30 == 0):\n",
    "        k += 1\n",
    "    data['Month'][i] = k % 12\n",
    "\n",
    "# Should equal one - To check above algorithm has completed\n",
    "data['Month'][31]"
   ]
  },
  {
   "cell_type": "code",
   "execution_count": 5,
   "metadata": {},
   "outputs": [],
   "source": [
    "# List of headers\n",
    "headers = list(data)\n",
    "\n",
    "# Create dataframes for each month\n",
    "one = pd.DataFrame(columns = headers)\n",
    "two = pd.DataFrame(columns = headers)\n",
    "three = pd.DataFrame(columns = headers)\n",
    "four = pd.DataFrame(columns = headers)\n",
    "five = pd.DataFrame(columns = headers)\n",
    "six = pd.DataFrame(columns = headers)\n",
    "seven = pd.DataFrame(columns = headers)\n",
    "eight = pd.DataFrame(columns = headers)\n",
    "nine = pd.DataFrame(columns = headers)\n",
    "ten = pd.DataFrame(columns = headers)\n",
    "eleven = pd.DataFrame(columns = headers)\n",
    "twelve = pd.DataFrame(columns = headers)\n",
    "\n",
    "# Create list of dataframes to allow easy looping later\n",
    "dfs = [one, two, three, four, five, six, seven, eight, nine, ten, eleven, twelve]"
   ]
  },
  {
   "cell_type": "code",
   "execution_count": 6,
   "metadata": {},
   "outputs": [],
   "source": [
    "# Move data onto monthly dataframes\n",
    "for i in range(25568):\n",
    "            dfs[data['Month'][i]] = dfs[data['Month'][i]].append(data.iloc[i], ignore_index = True)\n"
   ]
  },
  {
   "cell_type": "code",
   "execution_count": 7,
   "metadata": {},
   "outputs": [],
   "source": [
    "# Replace all missing values with np NAN to allow mean calculation without these\n",
    "for i in range(12):\n",
    "    dfs[i] = dfs[i].replace([-9999], np.nan)\n",
    "\n",
    "for i in range(12):\n",
    "    # Calculate mean for each site\n",
    "    dfs[i].loc['mean'] = round(dfs[i].mean())\n",
    "    \n",
    "    # Replace all Nan with mean value for site\n",
    "    for head in headers:\n",
    "        dfs[i][head] = dfs[i][head].replace([np.nan], dfs[i].loc['mean'][head])\n",
    "        \n",
    "    # Drop Mean row and Month column to simplify data for csv conversion\n",
    "    dfs[i] = dfs[i].drop(['mean'])\n",
    "    dfs[i] = dfs[i].drop(['Month'], axis = 1)\n",
    "    \n",
    "    # Push data to file, remove index and header\n",
    "    dfs[i].to_csv('month'+str(i)+'.csv', index = False, header = None)"
   ]
  },
  {
   "cell_type": "code",
   "execution_count": 8,
   "metadata": {},
   "outputs": [
    {
     "data": {
      "text/plain": [
       "<seaborn.axisgrid.FacetGrid at 0x7fb95af00070>"
      ]
     },
     "execution_count": 8,
     "metadata": {},
     "output_type": "execute_result"
    },
    {
     "data": {
      "image/png": "[encoded data removed]",
      "text/plain": [
       "<Figure size 360x360 with 1 Axes>"
      ]
     },
     "metadata": {
      "needs_background": "light"
     },
     "output_type": "display_data"
    }
   ],
   "source": [
    "sns.displot(dfs[11]['Ohringen'], bins=50)"
   ]
  },
  {
   "cell_type": "code",
   "execution_count": null,
   "metadata": {},
   "outputs": [],
   "source": []
  }
 ],
 "metadata": {
  "kernelspec": {
   "display_name": "Python 3",
   "language": "python",
   "name": "python3"
  },
  "language_info": {
   "codemirror_mode": {
    "name": "ipython",
    "version": 3
   },
   "file_extension": ".py",
   "mimetype": "text/x-python",
   "name": "python",
   "nbconvert_exporter": "python",
   "pygments_lexer": "ipython3",
   "version": "3.8.5"
  }
 },
 "nbformat": 4,
 "nbformat_minor": 4
}
